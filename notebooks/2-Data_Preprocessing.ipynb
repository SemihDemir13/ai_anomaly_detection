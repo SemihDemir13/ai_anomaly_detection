{
 "cells": [
  {
   "cell_type": "code",
   "execution_count": 1,
   "id": "7dca0af3-5a76-4b1b-88c5-d9207abe9e1e",
   "metadata": {},
   "outputs": [
    {
     "name": "stdout",
     "output_type": "stream",
     "text": [
      "Veri seti yüklendi ve hazır.\n"
     ]
    },
    {
     "data": {
      "text/html": [
       "<div>\n",
       "<style scoped>\n",
       "    .dataframe tbody tr th:only-of-type {\n",
       "        vertical-align: middle;\n",
       "    }\n",
       "\n",
       "    .dataframe tbody tr th {\n",
       "        vertical-align: top;\n",
       "    }\n",
       "\n",
       "    .dataframe thead th {\n",
       "        text-align: right;\n",
       "    }\n",
       "</style>\n",
       "<table border=\"1\" class=\"dataframe\">\n",
       "  <thead>\n",
       "    <tr style=\"text-align: right;\">\n",
       "      <th></th>\n",
       "      <th>Destination Port</th>\n",
       "      <th>Flow Duration</th>\n",
       "      <th>Total Fwd Packets</th>\n",
       "      <th>Total Backward Packets</th>\n",
       "      <th>Total Length of Fwd Packets</th>\n",
       "      <th>Total Length of Bwd Packets</th>\n",
       "      <th>Fwd Packet Length Max</th>\n",
       "      <th>Fwd Packet Length Min</th>\n",
       "      <th>Fwd Packet Length Mean</th>\n",
       "      <th>Fwd Packet Length Std</th>\n",
       "      <th>...</th>\n",
       "      <th>min_seg_size_forward</th>\n",
       "      <th>Active Mean</th>\n",
       "      <th>Active Std</th>\n",
       "      <th>Active Max</th>\n",
       "      <th>Active Min</th>\n",
       "      <th>Idle Mean</th>\n",
       "      <th>Idle Std</th>\n",
       "      <th>Idle Max</th>\n",
       "      <th>Idle Min</th>\n",
       "      <th>Label</th>\n",
       "    </tr>\n",
       "  </thead>\n",
       "  <tbody>\n",
       "    <tr>\n",
       "      <th>0</th>\n",
       "      <td>54865</td>\n",
       "      <td>3</td>\n",
       "      <td>2</td>\n",
       "      <td>0</td>\n",
       "      <td>12</td>\n",
       "      <td>0</td>\n",
       "      <td>6</td>\n",
       "      <td>6</td>\n",
       "      <td>6.0</td>\n",
       "      <td>0.0</td>\n",
       "      <td>...</td>\n",
       "      <td>20</td>\n",
       "      <td>0.0</td>\n",
       "      <td>0.0</td>\n",
       "      <td>0</td>\n",
       "      <td>0</td>\n",
       "      <td>0.0</td>\n",
       "      <td>0.0</td>\n",
       "      <td>0</td>\n",
       "      <td>0</td>\n",
       "      <td>BENIGN</td>\n",
       "    </tr>\n",
       "    <tr>\n",
       "      <th>1</th>\n",
       "      <td>55054</td>\n",
       "      <td>109</td>\n",
       "      <td>1</td>\n",
       "      <td>1</td>\n",
       "      <td>6</td>\n",
       "      <td>6</td>\n",
       "      <td>6</td>\n",
       "      <td>6</td>\n",
       "      <td>6.0</td>\n",
       "      <td>0.0</td>\n",
       "      <td>...</td>\n",
       "      <td>20</td>\n",
       "      <td>0.0</td>\n",
       "      <td>0.0</td>\n",
       "      <td>0</td>\n",
       "      <td>0</td>\n",
       "      <td>0.0</td>\n",
       "      <td>0.0</td>\n",
       "      <td>0</td>\n",
       "      <td>0</td>\n",
       "      <td>BENIGN</td>\n",
       "    </tr>\n",
       "  </tbody>\n",
       "</table>\n",
       "<p>2 rows × 79 columns</p>\n",
       "</div>"
      ],
      "text/plain": [
       "   Destination Port  Flow Duration  Total Fwd Packets  Total Backward Packets  \\\n",
       "0             54865              3                  2                       0   \n",
       "1             55054            109                  1                       1   \n",
       "\n",
       "   Total Length of Fwd Packets  Total Length of Bwd Packets  \\\n",
       "0                           12                            0   \n",
       "1                            6                            6   \n",
       "\n",
       "   Fwd Packet Length Max  Fwd Packet Length Min  Fwd Packet Length Mean  \\\n",
       "0                      6                      6                     6.0   \n",
       "1                      6                      6                     6.0   \n",
       "\n",
       "   Fwd Packet Length Std  ...  min_seg_size_forward  Active Mean  Active Std  \\\n",
       "0                    0.0  ...                    20          0.0         0.0   \n",
       "1                    0.0  ...                    20          0.0         0.0   \n",
       "\n",
       "   Active Max  Active Min  Idle Mean  Idle Std  Idle Max  Idle Min   Label  \n",
       "0           0           0        0.0       0.0         0         0  BENIGN  \n",
       "1           0           0        0.0       0.0         0         0  BENIGN  \n",
       "\n",
       "[2 rows x 79 columns]"
      ]
     },
     "metadata": {},
     "output_type": "display_data"
    }
   ],
   "source": [
    "import pandas as pd\n",
    "import numpy as np\n",
    "from sklearn.model_selection import train_test_split\n",
    "from sklearn.preprocessing import StandardScaler\n",
    "\n",
    "# Bir önceki notebook'ta yaptığımız gibi veriyi yükle\n",
    "file_path = '../data/raw/cic_ids_2017.csv'\n",
    "df = pd.read_csv(file_path)\n",
    "\n",
    "# Sütun isimlerindeki boşlukları temizle\n",
    "df.columns = df.columns.str.strip()\n",
    "\n",
    "print(\"Veri seti yüklendi ve hazır.\")\n",
    "display(df.head(2))"
   ]
  },
  {
   "cell_type": "code",
   "execution_count": 2,
   "id": "52282b00-0f73-4e65-9f06-05bbd0a66982",
   "metadata": {},
   "outputs": [
    {
     "name": "stdout",
     "output_type": "stream",
     "text": [
      "Veri temizleme adımı tamamlandı (şimdilik atılacak sütun yok).\n"
     ]
    }
   ],
   "source": [
    "# EDA'da anlamsız veya sorunlu bulduğumuz sütunları atalım.\n",
    "# Örnek: Eğer tek değerli veya ID gibi bir sütun bulduysak buraya ekleyeceğiz.\n",
    "# Şu an için, veri setinde bariz bir sorunlu sütun olmadığını varsayalım.\n",
    "# Ancak, bazı veri setlerinde 'Flow ID', 'Timestamp' gibi sütunlar olur.\n",
    "# Bunlar genellikle atılır çünkü modele katkı sağlamazlar.\n",
    "# Eğer böyle sütunlar varsa, aşağıdaki gibi atabilirsin:\n",
    "# columns_to_drop = ['Flow ID', 'Timestamp']\n",
    "# df = df.drop(columns=columns_to_drop, axis=1)\n",
    "\n",
    "# Veri setinde sonsuz (infinity) değerler olup olmadığını kontrol edelim.\n",
    "# np.isinf(df).sum() komutuyla kontrol edebilirsin. Varsa düzeltmemiz gerekir.\n",
    "# Şimdilik temiz olduğunu varsayıyoruz.\n",
    "\n",
    "print(\"Veri temizleme adımı tamamlandı (şimdilik atılacak sütun yok).\")"
   ]
  },
  {
   "cell_type": "code",
   "execution_count": 3,
   "id": "592a3004-ec63-422e-ac75-2464f0c39552",
   "metadata": {},
   "outputs": [
    {
     "name": "stdout",
     "output_type": "stream",
     "text": [
      "Eğitim seti boyutu: (180596, 78)\n",
      "Test seti boyutu: (45149, 78)\n",
      "\n",
      "Eğitim setindeki etiket dağılımı:\n",
      " Label\n",
      "DDoS      0.567133\n",
      "BENIGN    0.432867\n",
      "Name: proportion, dtype: float64\n",
      "\n",
      "Test setindeki etiket dağılımı:\n",
      " Label\n",
      "DDoS      0.567122\n",
      "BENIGN    0.432878\n",
      "Name: proportion, dtype: float64\n"
     ]
    }
   ],
   "source": [
    "# Özellikleri (X) ve hedefi (y) ayır\n",
    "X = df.drop('Label', axis=1)\n",
    "y = df['Label']\n",
    "\n",
    "# Veri setini %80 eğitim, %20 test olarak ayır\n",
    "# stratify=y -> Eğitim ve test setlerindeki DDoS/BENIGN oranlarının, orijinal veri setiyle aynı olmasını sağlar.\n",
    "# Bu, dengesiz veri setlerinde çok önemlidir!\n",
    "X_train, X_test, y_train, y_test = train_test_split(\n",
    "    X, y,\n",
    "    test_size=0.2,\n",
    "    random_state=42, # Sonuçların tekrarlanabilir olması için\n",
    "    stratify=y\n",
    ")\n",
    "\n",
    "print(\"Eğitim seti boyutu:\", X_train.shape)\n",
    "print(\"Test seti boyutu:\", X_test.shape)\n",
    "print(\"\\nEğitim setindeki etiket dağılımı:\\n\", y_train.value_counts(normalize=True))\n",
    "print(\"\\nTest setindeki etiket dağılımı:\\n\", y_test.value_counts(normalize=True))"
   ]
  },
  {
   "cell_type": "code",
   "execution_count": null,
   "id": "1735e1f9-0f09-4993-beef-45425130ca3f",
   "metadata": {},
   "outputs": [],
   "source": []
  }
 ],
 "metadata": {
  "kernelspec": {
   "display_name": "Python 3 (ipykernel)",
   "language": "python",
   "name": "python3"
  },
  "language_info": {
   "codemirror_mode": {
    "name": "ipython",
    "version": 3
   },
   "file_extension": ".py",
   "mimetype": "text/x-python",
   "name": "python",
   "nbconvert_exporter": "python",
   "pygments_lexer": "ipython3",
   "version": "3.12.6"
  }
 },
 "nbformat": 4,
 "nbformat_minor": 5
}
